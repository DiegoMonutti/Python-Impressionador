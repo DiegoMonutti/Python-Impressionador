{
 "cells": [
  {
   "cell_type": "code",
   "execution_count": 2,
   "metadata": {},
   "outputs": [],
   "source": [
    "import xmltodict\n",
    "import pandas as pd\n",
    "import os"
   ]
  },
  {
   "cell_type": "code",
   "execution_count": null,
   "metadata": {},
   "outputs": [],
   "source": [
    "def ler_xml_danfe(nota):\n",
    "    with open(nota, 'rb') as arquivo:\n",
    "        documento = xmltodict.parse(arquivo)\n",
    "\n",
    "    dic_notafiscal = documento['nfeProc']['NFe']['infNFe']\n",
    "\n",
    "    produtos = dic_notafiscal['det']\n",
    "\n",
    "    lista_produtos = []\n",
    "\n",
    "    for produto in produtos:\n",
    "        nome_produto = produto['prod']['xProd']\n",
    "        valor_produto = produto['prod']['vProd']\n",
    "        lista_produtos.append((nome_produto, valor_produto))\n",
    "\n",
    "    valor_total = dic_notafiscal['total']['ICMSTot']['vNF']\n",
    "    nome_vendedor = dic_notafiscal['emit']['xNome']\n",
    "    cnpj_vendedor = dic_notafiscal['emit']['CNPJ']\n",
    "    nome_comprador = dic_notafiscal['dest']['xNome']\n",
    "    cpf_comprador = dic_notafiscal['dest']['CPF']\n",
    "\n",
    "    dic_dados = {\n",
    "        'Valor Total': [valor_total],\n",
    "        'Nome Vendedor': [nome_vendedor],\n",
    "        'CNPJ Vendedor': [cnpj_vendedor],\n",
    "        'Nome Comprador': [nome_comprador],\n",
    "        'CPF Comprador': [cpf_comprador],\n",
    "        'Lista de Produtos': [lista_produtos],\n",
    "        }\n",
    "    return dic_dados\n",
    "\n",
    "lista_nfs = os.listdir('Notas Fiscais - Mentoria')\n",
    "\n",
    "for nf in lista_nfs:\n",
    "    if 'xml' in nf:\n",
    "        if 'DANFE' in nf:\n",
    "            ler_xml_danfe(f'Notas Fiscais - Mentoria/{nf}')\n"
   ]
  }
 ],
 "metadata": {
  "kernelspec": {
   "display_name": "base",
   "language": "python",
   "name": "python3"
  },
  "language_info": {
   "codemirror_mode": {
    "name": "ipython",
    "version": 3
   },
   "file_extension": ".py",
   "mimetype": "text/x-python",
   "name": "python",
   "nbconvert_exporter": "python",
   "pygments_lexer": "ipython3",
   "version": "3.9.13"
  },
  "orig_nbformat": 4
 },
 "nbformat": 4,
 "nbformat_minor": 2
}
