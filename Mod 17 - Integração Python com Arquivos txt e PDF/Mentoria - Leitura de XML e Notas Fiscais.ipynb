{
 "cells": [
  {
   "cell_type": "code",
   "execution_count": 2,
   "metadata": {},
   "outputs": [],
   "source": [
    "import xmltodict"
   ]
  },
  {
   "cell_type": "code",
   "execution_count": 12,
   "metadata": {},
   "outputs": [
    {
     "data": {
      "text/plain": [
       "{'Valor Total': '374.17',\n",
       " 'Nome Vendedor': 'BROTA COMPANY COMERCIO DE PLANTAS LTDA',\n",
       " 'CNPJ Vendedor': '36882195000279',\n",
       " 'Nome Comprador': 'Lira da Hashtag',\n",
       " 'CPF Comprador': '10000000000',\n",
       " 'Lista de Produtos': [('b.box led', '389.00'),\n",
       "  ('Tomilho Serpilho', '10.00'),\n",
       "  ('Oregano Bravo-Europeu', '10.00'),\n",
       "  ('Manjericao Italiano', '10.00'),\n",
       "  ('Coentro Portugues', '10.00'),\n",
       "  ('Salsa Hortense', '10.00'),\n",
       "  ('Alface Baby-Leaf', '10.00')]}"
      ]
     },
     "metadata": {},
     "output_type": "display_data"
    }
   ],
   "source": [
    "with open(r'Notas Fiscais - Mentoria\\DANFEBrota.xml', 'rb') as arquivo:\n",
    "    documento = xmltodict.parse(arquivo)\n",
    "\n",
    "dic_notafiscal = documento['nfeProc']['NFe']['infNFe']\n",
    "\n",
    "produtos = dic_notafiscal['det']\n",
    "\n",
    "lista_produtos = []\n",
    "\n",
    "for produto in produtos:\n",
    "    nome_produto = produto['prod']['xProd']\n",
    "    valor_produto = produto['prod']['vProd']\n",
    "    lista_produtos.append((nome_produto, valor_produto))\n",
    "\n",
    "valor_total = dic_notafiscal['total']['ICMSTot']['vNF']\n",
    "nome_vendedor = dic_notafiscal['emit']['xNome']\n",
    "cnpj_vendedor = dic_notafiscal['emit']['CNPJ']\n",
    "nome_comprador = dic_notafiscal['dest']['xNome']\n",
    "cpf_comprador = dic_notafiscal['dest']['CPF']\n",
    "\n",
    "dic_dados = {\n",
    "    'Valor Total': valor_total,\n",
    "    'Nome Vendedor': nome_vendedor,\n",
    "    'CNPJ Vendedor': cnpj_vendedor,\n",
    "    'Nome Comprador': nome_comprador,\n",
    "    'CPF Comprador': cpf_comprador,\n",
    "    'Lista de Produtos': lista_produtos,\n",
    "    }\n",
    "\n"
   ]
  }
 ],
 "metadata": {
  "kernelspec": {
   "display_name": "base",
   "language": "python",
   "name": "python3"
  },
  "language_info": {
   "codemirror_mode": {
    "name": "ipython",
    "version": 3
   },
   "file_extension": ".py",
   "mimetype": "text/x-python",
   "name": "python",
   "nbconvert_exporter": "python",
   "pygments_lexer": "ipython3",
   "version": "3.9.13"
  },
  "orig_nbformat": 4
 },
 "nbformat": 4,
 "nbformat_minor": 2
}
