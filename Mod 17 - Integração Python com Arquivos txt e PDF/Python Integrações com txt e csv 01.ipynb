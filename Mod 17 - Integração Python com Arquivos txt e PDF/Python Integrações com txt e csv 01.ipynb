{
 "cells": [
  {
   "attachments": {},
   "cell_type": "markdown",
   "metadata": {},
   "source": [
    "### Exercício 1:\n",
    "\n",
    "- Na Hashtag, sempre analisamos o nosso \"Funil de Vendas\". Para isso, rastreamos de onde vieram os alunos por meio de um código, do tipo:\n",
    "    - hashtag_site_org -> Pessoas que vieram pelo site da Hashtag\n",
    "    - hashtag_yt_org -> Pessoas que vieram pelo Youtube da Hashtag\n",
    "    - hashtag_ig_org -> Pessoas que vieram pelo Instagram da Hashtag\n",
    "    - hashtag_igfb_org -> Pessoas que vieram pelo Instagram ou Facebook da Hashtag\n",
    "\n",
    "Os códigos diferentes disso são códigos de anúncio da Hashtag.\n",
    "\n",
    "- Queremos analisar quantos alunos vieram de anúncio e quantos vieram de \"orgânico\".\n",
    "- Qual a melhor fonte \"orgânica\" de alunos? (Instagram e Facebook considerar como uma coisa só)\n",
    "\n",
    "Obs: orgânico é tudo aquilo que não veio de anúncios.\n",
    "\n",
    "No nosso sistema, conseguimos exportar um txt com as informações dos alunos, conforme o arquivo Alunos.txt<br>\n",
    "(Os dados foram gerados aleatoriamente para simular uma situação real, já que não podemos fornecer os dados reais dos alunos por questões de segurança)\n",
    "\n",
    "- No final, para treinar, vamos escrever todas essas respostas em um novo arquivo txt"
   ]
  },
  {
   "cell_type": "code",
   "execution_count": 42,
   "metadata": {},
   "outputs": [
    {
     "name": "stdout",
     "output_type": "stream",
     "text": [
      "Total orgânico: 226:\n",
      "Site: 73, Youtube: 116, Instagram/Face: 14\n",
      "\n",
      "Anúncio: 274\n"
     ]
    }
   ],
   "source": [
    "total_org = 0\n",
    "_site_org = 0\n",
    "_yt_org = 0\n",
    "_igfb_org = 0\n",
    "ad = 0\n",
    "\n",
    "with open(r'Arquivos\\Alunos.txt', 'r') as arq_alunos:\n",
    "    linhas_contadas = set()\n",
    "    for linha in arq_alunos.readlines()[4:]:\n",
    "        if '_org' in linha and linha not in linhas_contadas:\n",
    "            total_org += 1\n",
    "            linhas_contadas.add(linha)\n",
    "            if '_site_org' in linha:\n",
    "                _site_org +=1\n",
    "            elif 'yt_org' in linha:\n",
    "                _yt_org +=1\n",
    "            elif '_igfb_org' in linha or '_ig_org' in linha:\n",
    "                _igfb_org += 1\n",
    "        else:\n",
    "            ad += 1\n",
    "print(f'''Total orgânico: {total_org}:\n",
    "Site: {_site_org}, Youtube: {_yt_org}, Instagram/Face: {_igfb_org}\n",
    "\n",
    "Anúncio: {ad}''')\n"
   ]
  },
  {
   "cell_type": "code",
   "execution_count": 41,
   "metadata": {},
   "outputs": [
    {
     "name": "stdout",
     "output_type": "stream",
     "text": [
      "Total orgânico: 226:\n",
      "Site: 73, Youtube: 116, Instagram/Face: 14\n",
      "\n",
      "Anúncio: 274\n"
     ]
    }
   ],
   "source": [
    "counts = {'total_org': 0, 'site_org': 0, 'yt_org': 0, 'ig_org': 0, 'ad': 0}\n",
    "\n",
    "with open(r'Arquivos\\Alunos.txt', 'r') as arq_alunos:\n",
    "    for linha in arq_alunos.readlines()[4:]:\n",
    "        if '_org' in linha:\n",
    "            counts['total_org'] += 1\n",
    "            if '_site_org' in linha:\n",
    "                counts['site_org'] += 1\n",
    "            elif '_yt_org' in linha:\n",
    "                counts['yt_org'] += 1\n",
    "            elif '_ig_org' in linha or '_igfb_org' in linha:\n",
    "                counts['ig_org'] += 1\n",
    "        else:\n",
    "            counts['ad'] += 1\n",
    "\n",
    "print(f'''Total orgânico: {counts[\"total_org\"]}:\n",
    "Site: {counts[\"site_org\"]}, Youtube: {counts[\"yt_org\"]}, Instagram/Face: {counts[\"ig_org\"]}\n",
    "\n",
    "Anúncio: {counts[\"ad\"]}''')\n"
   ]
  }
 ],
 "metadata": {
  "kernelspec": {
   "display_name": "Python 3",
   "language": "python",
   "name": "python3"
  },
  "language_info": {
   "codemirror_mode": {
    "name": "ipython",
    "version": 3
   },
   "file_extension": ".py",
   "mimetype": "text/x-python",
   "name": "python",
   "nbconvert_exporter": "python",
   "pygments_lexer": "ipython3",
   "version": "3.9.13"
  }
 },
 "nbformat": 4,
 "nbformat_minor": 4
}
