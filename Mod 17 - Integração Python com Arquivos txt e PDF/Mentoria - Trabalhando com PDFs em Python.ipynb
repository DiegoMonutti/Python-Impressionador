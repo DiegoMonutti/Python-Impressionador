{
 "cells": [
  {
   "attachments": {},
   "cell_type": "markdown",
   "metadata": {},
   "source": [
    "# Vamos aprender a trabalhar com PDF usando o Python\n",
    "\n",
    "- Regra geral: PDF foi feito justamente para bloquear muita coisa, então não é fácil editar e modificar um pdf\n",
    "- Mesmo assim o Python tem várias bibliotecas que vão nos ajudar, vamos focar em 2:\n",
    "    - PyPDF2\n",
    "    - Tabula\n",
    "- Ler e extrair informações de um PDF a gente consegue fazer.\n",
    "- Escrever e Editar, aí já é outra história\n",
    "\n",
    "### Para os nossos exemplos, vamos avaliar o Release de Resultados do 3º e 4º Trimestre de 2020 da Magazine Luiza"
   ]
  },
  {
   "cell_type": "markdown",
   "metadata": {},
   "source": [
    "#### 1º Objetivo: Queremos conseguir separar apenas o DRE do Release de Resultados (Página 14) para enviar para a Diretoria, como fazemos?\n",
    "    - Separar as páginas de um pdf"
   ]
  },
  {
   "cell_type": "code",
   "execution_count": 1,
   "metadata": {},
   "outputs": [],
   "source": [
    "import PyPDF2 as pyf\n",
    "from pathlib import Path\n",
    "\n",
    "arquivo_pdf = pyf.PdfReader(r'Documentos PDF - Mentoria\\MGLU_ER_3T20_POR.pdf')\n",
    "\n",
    "i = 1\n",
    "for pagina in arquivo_pdf.pages:\n",
    "    arquivo_novo = pyf.PdfWriter()\n",
    "    arquivo_novo.add_page(pagina)\n",
    "    with Path(fr'Documentos PDF - Mentoria\\Páginas Separadas\\Arquivo{i}.pdf').open(mode='wb') as arquivo_final:\n",
    "        arquivo_novo.write(arquivo_final)\n",
    "        i += 1"
   ]
  },
  {
   "cell_type": "markdown",
   "metadata": {},
   "source": [
    "#### 2º Objetivo: Com o Release de Resultados já separado página por página, queremos incluir apenas as Páginas de Destaque (Página 1), DRE (Página 14) e Balanço (Página 16).\n",
    "    - Juntar vários pdfs em 1"
   ]
  },
  {
   "cell_type": "code",
   "execution_count": 2,
   "metadata": {},
   "outputs": [],
   "source": [
    "paginas = [1, 14, 16]\n",
    "\n",
    "novo_pdf = pyf.PdfWriter()\n",
    "for num_pagina in paginas:\n",
    "    arquivo_pdf = pyf.PdfReader(fr'Documentos PDF - Mentoria\\Páginas Separadas\\Arquivo{num_pagina}.pdf')\n",
    "    pagina = arquivo_pdf.pages[0]\n",
    "    novo_pdf.add_page(pagina)\n",
    "\n",
    "with Path(r'Documentos PDF - Mentoria\\Consolidado.pdf').open(mode='wb') as arquivo_final:\n",
    "        novo_pdf.write(arquivo_final)"
   ]
  },
  {
   "cell_type": "markdown",
   "metadata": {},
   "source": [
    "### Extra: Para adicionar todas as páginas de 2 pdfs"
   ]
  },
  {
   "cell_type": "code",
   "execution_count": 3,
   "metadata": {},
   "outputs": [],
   "source": [
    "pdf_mesclado = pyf.PdfMerger()\n",
    "\n",
    "pdf_mesclado.append(r'Documentos PDF - Mentoria\\MGLU_ER_3T20_POR.pdf')\n",
    "pdf_mesclado.append(r'Documentos PDF - Mentoria\\MGLU_ER_4T20_POR.pdf')\n",
    "\n",
    "with Path(r'Documentos PDF - Mentoria\\ConsolidadoAppend.pdf').open(mode='wb') as arquivo_final:\n",
    "        pdf_mesclado.write(arquivo_final)"
   ]
  },
  {
   "cell_type": "markdown",
   "metadata": {},
   "source": [
    "# Funcionalidades que podem ser úteis:\n",
    "\n",
    "- Inserir arquivo no meio do outro\n",
    "- Quero colocar dentro do Resultado do 4T20 os destaques do 3T20 para poder comparar os 2 dentro do mesmo relatório"
   ]
  },
  {
   "cell_type": "code",
   "execution_count": 4,
   "metadata": {},
   "outputs": [],
   "source": [
    "pdf_mesclado = pyf.PdfMerger()\n",
    "\n",
    "pdf_mesclado.append(r'Documentos PDF - Mentoria\\MGLU_ER_3T20_POR.pdf')\n",
    "pdf_mesclado.merge(1, r'Documentos PDF - Mentoria\\MGLU_ER_4T20_POR.pdf')\n",
    "\n",
    "with Path(r'Documentos PDF - Mentoria\\ConsolidadoMerge.pdf').open(mode='wb') as arquivo_final:\n",
    "        pdf_mesclado.write(arquivo_final)"
   ]
  },
  {
   "cell_type": "markdown",
   "metadata": {},
   "source": [
    "- Rodar Página"
   ]
  },
  {
   "cell_type": "code",
   "execution_count": 5,
   "metadata": {},
   "outputs": [],
   "source": [
    "pdf_rodar = pyf.PdfReader(r'Documentos PDF - Mentoria\\MGLU_ER_3T20_POR.pdf')\n",
    "\n",
    "pdf_final = pyf.PdfWriter()\n",
    "for pagina in pdf_rodar.pages:\n",
    "    pagina.rotate(90)\n",
    "    pdf_final.add_page(pagina)\n",
    "    \n",
    "with Path(r'Documentos PDF - Mentoria\\Rodado.pdf').open(mode='wb') as arquivo_final:\n",
    "        pdf_final.write(arquivo_final)"
   ]
  },
  {
   "cell_type": "markdown",
   "metadata": {},
   "source": [
    "# Trabalhando com Textos e Informações Dentro do PDF\n",
    "\n",
    "#### 1º Objetivo: Quero identificar como foram as Despesas com Vendas da MGLU\n",
    "    - Pegar texto da página e identificar onde está essa informação"
   ]
  },
  {
   "cell_type": "code",
   "execution_count": 6,
   "metadata": {},
   "outputs": [
    {
     "name": "stdout",
     "output_type": "stream",
     "text": [
      "24\n",
      "{'/Title': 'DESEMPENHO FINANCEIRO CONSOLIDADO', '/Author': 'an_rezende', '/Subject': 'Receita Bruta', '/Creator': 'Microsoft® Office Word 2007', '/CreationDate': \"D:20201109183121-03'00'\", '/ModDate': \"D:20201109183121-03'00'\", '/Producer': 'Microsoft® Office Word 2007'}\n"
     ]
    }
   ],
   "source": [
    "arquivo = pyf.PdfReader(r'Documentos PDF - Mentoria\\MGLU_ER_3T20_POR.pdf')\n",
    "\n",
    "num_paginas = len(arquivo.pages)\n",
    "print(num_paginas)\n",
    "\n",
    "informacoes = arquivo.metadata\n",
    "print(informacoes)"
   ]
  },
  {
   "cell_type": "code",
   "execution_count": 7,
   "metadata": {},
   "outputs": [
    {
     "name": "stdout",
     "output_type": "stream",
     "text": [
      "Está na Página 10\n"
     ]
    }
   ],
   "source": [
    "texto_procurado = '| Despesas com Vendas'\n",
    "\n",
    "i = 1\n",
    "for pagina in arquivo.pages:\n",
    "    texto_pagina = pagina.extract_text()\n",
    "    if texto_procurado in texto_pagina:\n",
    "      print(f'Está na Página {i}')\n",
    "      num_pagina = i\n",
    "      texto_final = texto_pagina\n",
    "    i += 1"
   ]
  },
  {
   "cell_type": "code",
   "execution_count": 8,
   "metadata": {},
   "outputs": [
    {
     "name": "stdout",
     "output_type": "stream",
     "text": [
      "Divulgação de Resultados \n",
      "3T20 \n",
      "10 \n",
      " \n",
      " \n",
      " \n",
      "| Despesas Operacionais \n",
      " \n",
      "R$ milhões 3T20 \n",
      "Ajustado  % RL 3T19 \n",
      "Ajustado  % RL  Var(%) 9M20 \n",
      "Ajustado  % RL 9M19 \n",
      "Ajustado  % RL  Var(%) \n",
      " Despesas com Vendas  (1.432,6) -17,2% (890,0) -18,3% 61,0% (3.487,2) -18,2% (2.309,1) -17,1% 51,0% \n",
      " Despesas Gerais e Administrativas  (240,7) -2,9% (207,1) -4,3% 16,2% (617,3) -3,2% (498,2) -3,7% 23,9% \n",
      " Subtotal   (1.673,3) -20,1%   (1.097,1) -22,6% 52,5%   (4.104,5) -21,5%   (2.807,4) -20,8% 46,2% \n",
      " Perdas em Liquidação Duvidosa  (25,4) -0,3% (20,2) -0,4% 25,4% (84,5) -0,4% (45,8) -0,3% 84,3% \n",
      " Outras Receitas Operacionais, Líquidas  15,2 0,2% 15,3 0,3% -0,6% 41,0 0,2% 44,0 0,3% -6,8% \n",
      " Total de Despesas Operacionais    (1.683,5) -20,3%   (1.102,0) -22,7% 52,8%   (4.148,0) -21,7%   (2.809,2) -20,8% 47,7% \n",
      " \n",
      "| Despesas com Vendas \n",
      " \n",
      "No 3T20, as despesas com vendas totalizaram R$1.432,6 milhões, equivalentes a 17,2% da receita líquida, 1,1 p.p. menor que no \n",
      "3T19 , principalmente devido ao forte crescimento das vendas . Vale ressaltar que a Companhia conseguiu diluir as despesas com \n",
      "vendas m esmo investi ndo em maior nível de serviço, especialmente em atendimento e logística. \n",
      " \n",
      "Nos 9M20, as despesas com vendas totalizaram R$3.487,2 milhões, equivalentes a 18,2% da receita líquida (+1,1 p.p. versus os \n",
      "9M19). \n",
      " \n",
      "| Despesas Gerais e Administrativas  \n",
      " \n",
      "No 3T20, as despesas gerais e administrativas totalizaram R$240,7 milhões, equivalentes a 2,9% da receita líquida, uma reduçã o \n",
      "de 1,4 p.p. em relação ao 3T19 devido, principalm ente, ao forte crescimento das vendas.  \n",
      " \n",
      "Nos 9M20, as despesas gerais e admini strativas totalizaram R$617,3 milhões, equivalentes a 3,2% da receita líquida. \n",
      " \n",
      "| Perdas em Créditos de Liquidação Duvidosa \n",
      " \n",
      "As provisões para perdas em crédito de liquidação duvidosa totalizaram R$25,4 milhões no 3T20 e R$84,5 nos 9M20. \n",
      " \n",
      "| Outras Receitas e Despesas Operacionais, Líquidas \n",
      " \n",
      "R$ milhões 3T20 % RL 3T19 % RL Var(%) 9M20 % RL 9M19 % RL Var(%) \n",
      " Ganho (Perda) na Venda de Ativo Imobilizado        (0,0) 0,0%        1,5 0,0% -102,0%       (1,9) 0,0%        4,4 0,0% -143,2% \n",
      " Apropriação de Receita Diferida        15,2 0,2%        13,8 0,3% 10,3%        42,9 0,2%        39,5 0,3% 8,6% \n",
      " Subtotal - Ajustado        15,2 0,2%        15,3 0,3% -0,6%        41,0 0,2%        44,0 0,3% -6,8% \n",
      " Créditos tributários         0,3 0,0%      240,8 5,0% -99,9%        56,6 0,3%      812,0 6,0% -93,0% \n",
      " Provisão para riscos tributários        (0,2) 0,0%      (16,7) -0,3% -98,8%        33,6 0,2%     (246,7) -1,8% -113,6% \n",
      " Honorários especialistas        (4,3) -0,1%      (28,8) -0,6% -85,0%      (19,8) -0,1%     (144,0) -1,1% -86,3% \n",
      " Despesas pré -operacionais de lojas        (3,2) 0,0%      (12,1) -0,2% -73,8%       (7,1) 0,0%      (20,3) -0,2% -65,0% \n",
      " Outras despesas não -recorrentes        (7,8) -0,1%      (15,6) -0,3% -50,3%      (23,2) -0,1%      (52,1) -0,4% -55,5% \n",
      " Subtotal - Não Recorrente       (15,1) -0,2%      167,7 3,4% -109,0%        40,2 0,2%      348,9 2,6% -88,5% \n",
      " Total         0,1 0,0%      183,0 3,8% -100,0%        81,2 0,4%      392,9 2,9% -79,3% \n",
      " \n",
      "No 3T20, as outras receitas operacionais líquidas ajustadas totalizaram R$15,2 milhões, influenciadas principalmente pela \n",
      "apropriação de receitas diferidas no montante de R$15,2 milhões. Nos 9M20, as outras receitas operacionais líquidas ajustadas \n",
      "totalizaram R$41,0 milhões. \n",
      " \n",
      "| Equivalência Patrimonial \n",
      " \n",
      "No 3T20, o resultado da equivalência patrimonial foi R$65,9 milhões, composto da seguinte forma: (i) o desempenho da \n",
      "Luizacred, responsável pela equivalência de R$58,8 milhões e (ii) a Luizaseg, responsável pela equivalência de R$7,1 milhões. Nos \n",
      "9M20, o resultado da equivalência patrimonial foi R$95,8 milhões. \n",
      " \n",
      " \n"
     ]
    }
   ],
   "source": [
    "texto_final = texto_final.replace('  ', ' ')\n",
    "print(texto_final)"
   ]
  },
  {
   "cell_type": "code",
   "execution_count": 10,
   "metadata": {},
   "outputs": [
    {
     "name": "stdout",
     "output_type": "stream",
     "text": [
      "| Despesas com Vendas \n",
      " \n",
      "No 3T20, as despesas com vendas totalizaram R$1.432,6 milhões, equivalentes a 17,2% da receita líquida, 1,1 p.p. menor que no \n",
      "3T19 , principalmente devido ao forte crescimento das vendas . Vale ressaltar que a Companhia conseguiu diluir as despesas com \n",
      "vendas m esmo investi ndo em maior nível de serviço, especialmente em atendimento e logística. \n",
      " \n",
      "Nos 9M20, as despesas com vendas totalizaram R$3.487,2 milhões, equivalentes a 18,2% da receita líquida (+1,1 p.p. versus os \n",
      "9M19). \n",
      " \n",
      "\n"
     ]
    }
   ],
   "source": [
    "posicao = texto_final.find('| Despesas com Vendas')\n",
    "posicao_final = texto_final.find(\"|\", posicao + 1)\n",
    "texto_despesa = texto_final[posicao:posicao_final]\n",
    "print(texto_despesa)"
   ]
  },
  {
   "cell_type": "markdown",
   "metadata": {},
   "source": [
    "#### 2º Objetivo: Quero analisar o DRE (sem ajuste - Página 5)\n",
    "    - Para ler tabelas em pdf, use o tabula (é ninja)"
   ]
  },
  {
   "cell_type": "code",
   "execution_count": null,
   "metadata": {},
   "outputs": [],
   "source": []
  },
  {
   "cell_type": "markdown",
   "metadata": {},
   "source": [
    "#### 3º Objetivo: Quero analisar o Capital de Giro e os Investimentos (ambas as tabelas na página 12)\n",
    "    - Páginas com mais de 1 tabela"
   ]
  },
  {
   "cell_type": "code",
   "execution_count": null,
   "metadata": {},
   "outputs": [],
   "source": []
  },
  {
   "cell_type": "markdown",
   "metadata": {},
   "source": [
    "#### O que fazer quando o tabula não consegue ler alguma linha da tabela? Como o cabeçalho, no nosso caso?"
   ]
  },
  {
   "cell_type": "code",
   "execution_count": null,
   "metadata": {},
   "outputs": [],
   "source": []
  },
  {
   "cell_type": "markdown",
   "metadata": {},
   "source": [
    "# Outro método que pode ser útil algum dia: Captar Imagem em um pdf\n",
    "    - biblioteca pikepdf"
   ]
  },
  {
   "cell_type": "code",
   "execution_count": 9,
   "metadata": {},
   "outputs": [
    {
     "ename": "ModuleNotFoundError",
     "evalue": "No module named 'pikepdf'",
     "output_type": "error",
     "traceback": [
      "\u001b[1;31m---------------------------------------------------------------------------\u001b[0m",
      "\u001b[1;31mModuleNotFoundError\u001b[0m                       Traceback (most recent call last)",
      "\u001b[1;32m~\\AppData\\Local\\Temp\\ipykernel_10516\\1537452793.py\u001b[0m in \u001b[0;36m<module>\u001b[1;34m\u001b[0m\n\u001b[1;32m----> 1\u001b[1;33m \u001b[1;32mfrom\u001b[0m \u001b[0mpikepdf\u001b[0m \u001b[1;32mimport\u001b[0m \u001b[0mPdf\u001b[0m\u001b[1;33m,\u001b[0m \u001b[0mPdfImage\u001b[0m\u001b[1;33m\u001b[0m\u001b[1;33m\u001b[0m\u001b[0m\n\u001b[0m\u001b[0;32m      2\u001b[0m \u001b[1;33m\u001b[0m\u001b[0m\n\u001b[0;32m      3\u001b[0m \u001b[0mfilename\u001b[0m \u001b[1;33m=\u001b[0m \u001b[1;34m\"MGLU_ER_3T20_POR.pdf\"\u001b[0m\u001b[1;33m\u001b[0m\u001b[1;33m\u001b[0m\u001b[0m\n\u001b[0;32m      4\u001b[0m \u001b[0mexample\u001b[0m \u001b[1;33m=\u001b[0m \u001b[0mPdf\u001b[0m\u001b[1;33m.\u001b[0m\u001b[0mopen\u001b[0m\u001b[1;33m(\u001b[0m\u001b[0mfilename\u001b[0m\u001b[1;33m)\u001b[0m\u001b[1;33m\u001b[0m\u001b[1;33m\u001b[0m\u001b[0m\n\u001b[0;32m      5\u001b[0m \u001b[1;33m\u001b[0m\u001b[0m\n",
      "\u001b[1;31mModuleNotFoundError\u001b[0m: No module named 'pikepdf'"
     ]
    }
   ],
   "source": [
    "from pikepdf import Pdf, PdfImage\n",
    "\n",
    "filename = \"MGLU_ER_3T20_POR.pdf\"\n",
    "example = Pdf.open(filename)\n",
    "\n",
    "n_arquivo = 0\n",
    "for i, pagina in enumerate(example.pages):\n",
    "    for nome, imagem in pagina.images.items():\n",
    "        imagem_salvar = PdfImage(imagem)\n",
    "        imagem_salvar.extract_to(fileprefix=f'imgs/Pagina_{i:02}_{n_arquivo}')\n",
    "        n_arquivo += 1"
   ]
  },
  {
   "cell_type": "markdown",
   "metadata": {},
   "source": [
    "# Substituir texto no pdf tipo contrato\n",
    "\n",
    "- Não recomendo fazer diretamente pelo Python. Realmente do que vi a melhor opção me parece o Word fazer isso\n",
    "- Caso precise automatizar, automatize o processo fazendo ele pelo Word\n",
    "- Quem quiser MUITO fazer isso pelo Python, tem um link aqui que vai te ajudar de uma solução que achei que funciona. Tem seus bugs/cuidados especiais, mas funciona: https://pdf.co/samples/pdf-co-web-api-replace-text-from-pdf-python-replace-text-from-url"
   ]
  }
 ],
 "metadata": {
  "kernelspec": {
   "display_name": "Python 3",
   "language": "python",
   "name": "python3"
  },
  "language_info": {
   "codemirror_mode": {
    "name": "ipython",
    "version": 3
   },
   "file_extension": ".py",
   "mimetype": "text/x-python",
   "name": "python",
   "nbconvert_exporter": "python",
   "pygments_lexer": "ipython3",
   "version": "3.9.13"
  }
 },
 "nbformat": 4,
 "nbformat_minor": 4
}
