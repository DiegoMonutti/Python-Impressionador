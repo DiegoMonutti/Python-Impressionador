{
 "cells": [
  {
   "cell_type": "code",
   "execution_count": 10,
   "metadata": {},
   "outputs": [],
   "source": [
    "from docx import Document\n",
    "from docx.shared import Pt, RGBColor, Cm\n",
    "from docx.enum.style import WD_STYLE_TYPE\n",
    "\n",
    "documento = Document()\n",
    "\n",
    "texto = '''\n",
    "Escrevendo um texto teste.\n",
    "Podemos escrever várias linhas e salvar no docx.\n",
    "Também é possível formatar como quisermos.\n",
    "'''\n",
    "paragrafo = documento.add_paragraph(texto)\n",
    "\n",
    "paragrafo.style = documento.styles.add_style('EstiloExemploPython', WD_STYLE_TYPE.PARAGRAPH)\n",
    "paragrafo.style.font.name = 'Arial'\n",
    "paragrafo.style.font.size = Pt(12)\n",
    "paragrafo.style.font.bold = True\n",
    "paragrafo.style.font.italic = True\n",
    "\n",
    "documento.save(r'Documentos Word - Mentoria\\Exemplo.docx')"
   ]
  },
  {
   "cell_type": "code",
   "execution_count": null,
   "metadata": {},
   "outputs": [],
   "source": []
  }
 ],
 "metadata": {
  "kernelspec": {
   "display_name": "base",
   "language": "python",
   "name": "python3"
  },
  "language_info": {
   "codemirror_mode": {
    "name": "ipython",
    "version": 3
   },
   "file_extension": ".py",
   "mimetype": "text/x-python",
   "name": "python",
   "nbconvert_exporter": "python",
   "pygments_lexer": "ipython3",
   "version": "3.9.13"
  },
  "orig_nbformat": 4
 },
 "nbformat": 4,
 "nbformat_minor": 2
}
