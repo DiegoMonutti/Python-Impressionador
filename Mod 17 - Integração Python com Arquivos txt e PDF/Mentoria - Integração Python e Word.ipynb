{
 "cells": [
  {
   "cell_type": "code",
   "execution_count": 5,
   "metadata": {},
   "outputs": [],
   "source": [
    "from docx import Document\n",
    "\n",
    "documento = Document()\n",
    "\n",
    "texto = '''\n",
    "Escrevendo um texto teste.\n",
    "Podemos escrever várias linhas e salvar no docx.\n",
    "'''\n",
    "paragrafo = documento.add_paragraph(texto)\n",
    "\n",
    "documento.save(r'Documentos Word - Mentoria\\Exemplo.docx')"
   ]
  }
 ],
 "metadata": {
  "kernelspec": {
   "display_name": "base",
   "language": "python",
   "name": "python3"
  },
  "language_info": {
   "codemirror_mode": {
    "name": "ipython",
    "version": 3
   },
   "file_extension": ".py",
   "mimetype": "text/x-python",
   "name": "python",
   "nbconvert_exporter": "python",
   "pygments_lexer": "ipython3",
   "version": "3.9.13"
  },
  "orig_nbformat": 4
 },
 "nbformat": 4,
 "nbformat_minor": 2
}
