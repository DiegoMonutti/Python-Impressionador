{
 "cells": [
  {
   "cell_type": "code",
   "execution_count": 14,
   "metadata": {},
   "outputs": [],
   "source": [
    "from docx import Document\n",
    "from docx.shared import Pt, RGBColor, Cm\n",
    "from docx.enum.style import WD_STYLE_TYPE\n",
    "\n",
    "documento = Document()\n",
    "\n",
    "texto = '''\n",
    "Escrevendo um texto teste.\n",
    "Podemos escrever várias linhas e salvar no docx.\n",
    "Também é possível formatar como quisermos.\n",
    "'''\n",
    "paragrafo = documento.add_paragraph(texto)\n",
    "\n",
    "paragrafo.style = documento.styles.add_style('EstiloExemploPython', WD_STYLE_TYPE.PARAGRAPH)\n",
    "paragrafo.style.font.name = 'Arial'\n",
    "paragrafo.style.font.size = Pt(12)\n",
    "paragrafo.style.font.bold = True\n",
    "paragrafo.style.font.italic = True\n",
    "\n",
    "paragrafo = documento.add_paragraph('Se add mais um parágrafo ele virá sem a formatação.')\n",
    "paragrafo = documento.add_paragraph('Mas se passar o estilo, ele irá formatar', 'EstiloExemploPython')\n",
    "paragrafo = documento.add_paragraph('Também é possível utilizar estilos padrões do Word', 'Heading5')\n",
    "\n",
    "documento.save(r'Documentos Word - Mentoria\\Exemplo.docx')"
   ]
  },
  {
   "cell_type": "code",
   "execution_count": 19,
   "metadata": {},
   "outputs": [],
   "source": [
    "template = Document(r'Documentos Word - Mentoria\\Template.docx')\n",
    "\n",
    "paragrafo = template.add_paragraph('Texto que irei escrever utilizando o template importado do outro arquivo. Dessa forma posso salvar todos os arquivos com a formatação desejada, sem precisar definir toda vez manualmente dentro do python.', 'EstiloPadraoPython')\n",
    "\n",
    "template.save(r'Documentos Word - Mentoria\\ExemploTemplate.docx')"
   ]
  },
  {
   "cell_type": "code",
   "execution_count": 21,
   "metadata": {},
   "outputs": [],
   "source": [
    "documento = Document()\n",
    "\n",
    "texto_inicial = 'Formatando partes específicas do texto:'\n",
    "paragrafo = documento.add_paragraph(texto_inicial)\n",
    "\n",
    "paragrafo.add_run('\\nDessa forma.').bold = True\n",
    "\n",
    "texto_final = 'Assim temos uma formatação apenas no meio do texto.'\n",
    "paragrafo = documento.add_paragraph(texto_final)\n",
    "\n",
    "documento.save(r'Documentos Word - Mentoria\\Exemplo2.docx')"
   ]
  }
 ],
 "metadata": {
  "kernelspec": {
   "display_name": "base",
   "language": "python",
   "name": "python3"
  },
  "language_info": {
   "codemirror_mode": {
    "name": "ipython",
    "version": 3
   },
   "file_extension": ".py",
   "mimetype": "text/x-python",
   "name": "python",
   "nbconvert_exporter": "python",
   "pygments_lexer": "ipython3",
   "version": "3.9.13"
  },
  "orig_nbformat": 4
 },
 "nbformat": 4,
 "nbformat_minor": 2
}
